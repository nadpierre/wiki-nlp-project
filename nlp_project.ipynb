{
 "cells": [
  {
   "cell_type": "markdown",
   "id": "d9be9711",
   "metadata": {},
   "source": [
    "# Wikipedia Music Genres NLP Project"
   ]
  },
  {
   "cell_type": "markdown",
   "id": "d8fe6dc4",
   "metadata": {},
   "source": [
    "## Overview"
   ]
  },
  {
   "cell_type": "markdown",
   "id": "79e68579",
   "metadata": {},
   "source": [
    "This notebook performs an NLP on music articles collected from [Wikipedia](https://en.wikipedia.org/)."
   ]
  },
  {
   "cell_type": "markdown",
   "id": "6ef81e48",
   "metadata": {},
   "source": [
    "## Imports"
   ]
  },
  {
   "cell_type": "code",
   "execution_count": null,
   "id": "47d46009",
   "metadata": {},
   "outputs": [],
   "source": [
    "import pandas as pd"
   ]
  },
  {
   "cell_type": "markdown",
   "id": "2aafbc5d",
   "metadata": {},
   "source": [
    "## Data Collection"
   ]
  },
  {
   "cell_type": "code",
   "execution_count": null,
   "id": "b6b87926",
   "metadata": {},
   "outputs": [],
   "source": [
    "# Wiki API and Web Scraping"
   ]
  },
  {
   "cell_type": "markdown",
   "id": "56964854",
   "metadata": {},
   "source": [
    "## Data Preprocessing"
   ]
  },
  {
   "cell_type": "markdown",
   "id": "dde53031",
   "metadata": {},
   "source": [
    "### Tokenize"
   ]
  },
  {
   "cell_type": "markdown",
   "id": "8d27f346",
   "metadata": {},
   "source": [
    "### Remove stopwords"
   ]
  },
  {
   "cell_type": "markdown",
   "id": "3993fec5",
   "metadata": {},
   "source": [
    "### Lemmatize or apply stemming"
   ]
  },
  {
   "cell_type": "markdown",
   "id": "e535b260",
   "metadata": {},
   "source": [
    "## Feature Extraction"
   ]
  },
  {
   "cell_type": "code",
   "execution_count": null,
   "id": "ba80609b",
   "metadata": {},
   "outputs": [],
   "source": [
    "# TF-IDF, BERT embeddings\n",
    "# Word embeddings like Word2Vec, Glove"
   ]
  },
  {
   "cell_type": "code",
   "execution_count": null,
   "id": "6d89832a",
   "metadata": {},
   "outputs": [],
   "source": [
    "# Or use HF feature extraction model that does all those steps"
   ]
  },
  {
   "cell_type": "markdown",
   "id": "99954af7",
   "metadata": {},
   "source": [
    "## Unsupervised Learning"
   ]
  },
  {
   "cell_type": "markdown",
   "id": "72634ee0",
   "metadata": {},
   "source": [
    "### K-Means"
   ]
  },
  {
   "cell_type": "markdown",
   "id": "94438ecf",
   "metadata": {},
   "source": [
    "### DBSCAN"
   ]
  },
  {
   "cell_type": "markdown",
   "id": "a6368774",
   "metadata": {},
   "source": [
    "### Latent Dirichlet Allocation (LDA)?"
   ]
  },
  {
   "cell_type": "markdown",
   "id": "56d00a36",
   "metadata": {},
   "source": [
    "## Evaluation and Interpretation"
   ]
  },
  {
   "cell_type": "markdown",
   "id": "ca07d101",
   "metadata": {},
   "source": [
    "### Visualize Clusters"
   ]
  },
  {
   "cell_type": "code",
   "execution_count": null,
   "id": "1a417d94",
   "metadata": {},
   "outputs": [],
   "source": [
    "#  t-SNE, UMAP, PCA"
   ]
  },
  {
   "cell_type": "markdown",
   "id": "ada6b5e1",
   "metadata": {},
   "source": [
    "### Analyse Clusters"
   ]
  },
  {
   "cell_type": "markdown",
   "id": "729bc9d9",
   "metadata": {},
   "source": [
    "## End"
   ]
  }
 ],
 "metadata": {
  "language_info": {
   "name": "python"
  }
 },
 "nbformat": 4,
 "nbformat_minor": 5
}
